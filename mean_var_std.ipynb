{
 "cells": [
  {
   "cell_type": "code",
   "execution_count": null,
   "id": "f970a59d",
   "metadata": {},
   "outputs": [],
   "source": [
    "import numpy as np"
   ]
  },
  {
   "cell_type": "code",
   "execution_count": null,
   "id": "86691907",
   "metadata": {},
   "outputs": [],
   "source": [
    "def Calculate(arr):\n",
    "    if len(arr) != 9:\n",
    "        raise ValueError(\"List must contain nine numbers.\")\n",
    "\n",
    "\n",
    "    m = np.array(arr).reshape([3, 3])\n",
    "    r = {\n",
    "        \"mean\": [m.mean(0).tolist(), m.mean(1).tolist(), m.mean()],\n",
    "        \"variance\": [m.var(0).tolist(), m.var(1).tolist(), m.var()],\n",
    "        \"standard deviation\": [m.std(0).tolist(), m.std(1).tolist(), m.std()],\n",
    "        \"max\": [m.max(0).tolist(), m.max(1).tolist(), m.max()],\n",
    "        \"min\": [m.min(0).tolist(), m.min(1).tolist(), m.min()],\n",
    "        \"sum\": [m.sum(0).tolist(), m.sum(1).tolist(), m.sum()],\n",
    "    }\n",
    "    return r\n"
   ]
  }
 ],
 "metadata": {
  "kernelspec": {
   "display_name": "Python 3 (ipykernel)",
   "language": "python",
   "name": "python3"
  },
  "language_info": {
   "codemirror_mode": {
    "name": "ipython",
    "version": 3
   },
   "file_extension": ".py",
   "mimetype": "text/x-python",
   "name": "python",
   "nbconvert_exporter": "python",
   "pygments_lexer": "ipython3",
   "version": "3.9.7"
  }
 },
 "nbformat": 4,
 "nbformat_minor": 5
}
